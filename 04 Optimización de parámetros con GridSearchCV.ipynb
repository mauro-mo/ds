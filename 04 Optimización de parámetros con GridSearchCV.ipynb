{
 "cells": [
  {
   "cell_type": "markdown",
   "metadata": {},
   "source": [
    "# MiniProyecto 4: Optimización de parámetros"
   ]
  },
  {
   "cell_type": "markdown",
   "metadata": {},
   "source": [
    "¡Bienvenidos al cuarto (mini)proyecto de la carrera de Data Science de Acamica! \n",
    "\n",
    "En este proyecto vamos a seguir trabajando (por última vez) con el dataset de propiedades en venta publicadas en el portal [Properati](www.properati.com.ar). El objetivo en este caso es optimizar los parámetros de los algoritmos que usamos en el proyecto pasado.\n",
    "\n",
    "El dataset es el mismo del proyecto 3. Recordemos que las columnas que se agregan son:\n",
    "\n",
    "* `barrios_match`: si coincide el barrio publicado con el geográfico vale 1, si no 0.\n",
    "\n",
    "* `PH`, `apartment`, `house`: variables binarias que indican el tipo de propiedad.\n",
    "\n",
    "* dummies de barrios: variables binarias con 1 o 0 según el barrio.\n",
    "\n",
    "La métrica que vamos a usar para medir es RMSE (raíz del error cuadréatico medio), cuya fórmula es:\n",
    "\n",
    "$$RMSE = \\sqrt{\\frac{\\sum_{t=1}^n (\\hat y_t - y_t)^2}{n}}$$"
   ]
  },
  {
   "cell_type": "markdown",
   "metadata": {},
   "source": [
    "## Pandas - Levantamos el dataset"
   ]
  },
  {
   "cell_type": "code",
   "execution_count": 1,
   "metadata": {},
   "outputs": [],
   "source": [
    "import pandas as pd\n",
    "pd.set_option('display.float_format', lambda x: '%.3f' % x)\n",
    "path_dataset = 'dataset/datos_properati_limpios_model.csv'\n",
    "df = pd.read_csv(path_dataset)"
   ]
  },
  {
   "cell_type": "markdown",
   "metadata": {},
   "source": [
    "**Separá** el dataset en entrenamiento (80%) y test (20%) utilizando como target la columna `price_aprox_usd`"
   ]
  },
  {
   "cell_type": "code",
   "execution_count": 2,
   "metadata": {},
   "outputs": [
    {
     "name": "stdout",
     "output_type": "stream",
     "text": [
      "5100 1276\n"
     ]
    }
   ],
   "source": [
    "# Esto es lo que hace\n",
    "import numpy as np\n",
    "np.random.seed(123)\n",
    "from sklearn.model_selection import train_test_split\n",
    "X = df.drop(['price_aprox_usd'], axis=1)\n",
    "y = df['price_aprox_usd']\n",
    "X_train, X_test, y_train, y_test = train_test_split(\n",
    "    X, y, test_size=0.2, random_state=42)\n",
    "\n",
    "print(X_train.shape[0], X_test.shape[0])"
   ]
  },
  {
   "cell_type": "markdown",
   "metadata": {},
   "source": [
    "## Scikit-learn - Entrenamiento"
   ]
  },
  {
   "cell_type": "markdown",
   "metadata": {},
   "source": [
    "Para repasar los parámetros de árboles de decisión en Scikit-learn: \n",
    "\n",
    "http://scikit-learn.org/stable/modules/generated/sklearn.tree.DecisionTreeRegressor.html"
   ]
  },
  {
   "cell_type": "markdown",
   "metadata": {},
   "source": [
    "En primer lugar veamos como hacer cross validation. Para eso necesitamos definir la cantidad de folds, en este caso vamos a usar 5.\n",
    "\n",
    "GridSearchCV nos permite testear a través de un espacio de búsqueda de parámetros la mejor combinación posible dado un estimador.\n",
    "\n",
    "Por ejemplo, en este caso probamos la profundidad máxima y la máxima cantidad de features para hacer los split. Ambos entre 1 y 5.\n",
    "Recordemos que para hacer la optimización scikit-learn usa la métrica `neg_mean_squared_error` en lugar de `mean_squared_error`."
   ]
  },
  {
   "cell_type": "markdown",
   "metadata": {},
   "source": [
    "**Creá** una variable `param_grid` con valores del 1 al 5 para los atributos `max_depth` y `max_features`. "
   ]
  },
  {
   "cell_type": "code",
   "execution_count": 3,
   "metadata": {},
   "outputs": [],
   "source": [
    "# Creá en esta celda la variable param_grid\n",
    "\n",
    "param_grid = [{'max_depth': [1, 2, 3, 4, 5], 'max_features': [1, 2, 3, 4, 5]}]"
   ]
  },
  {
   "cell_type": "markdown",
   "metadata": {},
   "source": [
    "**Importá** `GridSearchCV` y `DecisionTreeRegressor`.\n",
    "\n",
    "**Creá** una variable `grid_search` y asignale un `GridSearchCV` que recorra el `param_grid` que creaste con el algoritmos `DecisionTreeRegressor` y el un scoring de `neg_mean_squared_error`"
   ]
  },
  {
   "cell_type": "code",
   "execution_count": 4,
   "metadata": {},
   "outputs": [],
   "source": [
    "# Importa y crea un GridSearchCV en esta celda\n",
    "\n",
    "from sklearn.tree import DecisionTreeRegressor\n",
    "from sklearn.model_selection import GridSearchCV\n",
    "tree_reg = DecisionTreeRegressor()\n",
    "\n",
    "grid_search = GridSearchCV(tree_reg, param_grid, cv=5,\n",
    "                                 scoring='neg_mean_squared_error',\n",
    "                                 return_train_score=True)"
   ]
  },
  {
   "cell_type": "markdown",
   "metadata": {},
   "source": [
    "A continuación, realizá el `fit` del `grid_search` con el conjunto de entrenamiento"
   ]
  },
  {
   "cell_type": "code",
   "execution_count": 5,
   "metadata": {},
   "outputs": [
    {
     "data": {
      "text/plain": [
       "GridSearchCV(cv=5, error_score='raise-deprecating',\n",
       "       estimator=DecisionTreeRegressor(criterion='mse', max_depth=None, max_features=None,\n",
       "           max_leaf_nodes=None, min_impurity_decrease=0.0,\n",
       "           min_impurity_split=None, min_samples_leaf=1,\n",
       "           min_samples_split=2, min_weight_fraction_leaf=0.0,\n",
       "           presort=False, random_state=None, splitter='best'),\n",
       "       fit_params=None, iid='warn', n_jobs=None,\n",
       "       param_grid=[{'max_depth': [1, 2, 3, 4, 5], 'max_features': [1, 2, 3, 4, 5]}],\n",
       "       pre_dispatch='2*n_jobs', refit=True, return_train_score=True,\n",
       "       scoring='neg_mean_squared_error', verbose=0)"
      ]
     },
     "execution_count": 5,
     "metadata": {},
     "output_type": "execute_result"
    }
   ],
   "source": [
    "# Hace el fit de grid search en esta celda\n",
    "grid_search.fit(X_train, y_train)"
   ]
  },
  {
   "cell_type": "markdown",
   "metadata": {},
   "source": [
    "Revisemos los resultados. Recordemos que no están expresados en RMSE."
   ]
  },
  {
   "cell_type": "code",
   "execution_count": 6,
   "metadata": {},
   "outputs": [
    {
     "data": {
      "text/plain": [
       "make_scorer(mean_squared_error, greater_is_better=False)"
      ]
     },
     "execution_count": 6,
     "metadata": {},
     "output_type": "execute_result"
    }
   ],
   "source": [
    "grid_search.scorer_"
   ]
  },
  {
   "cell_type": "code",
   "execution_count": 7,
   "metadata": {},
   "outputs": [
    {
     "data": {
      "text/plain": [
       "{'mean_fit_time': array([0.03260183, 0.02420144, 0.02500148, 0.02520137, 0.02660151,\n",
       "        0.02600145, 0.02500143, 0.02520137, 0.02480149, 0.02580147,\n",
       "        0.02540154, 0.02520146, 0.02620158, 0.02700152, 0.02700171,\n",
       "        0.02500129, 0.02760162, 0.02780161, 0.02780166, 0.02760139,\n",
       "        0.02680149, 0.0280015 , 0.02840157, 0.02780166, 0.03020172]),\n",
       " 'std_fit_time': array([9.70819529e-03, 4.00042573e-04, 1.26504558e-03, 7.48379208e-04,\n",
       "        3.26212973e-03, 3.03340196e-03, 1.16800773e-07, 4.00042545e-04,\n",
       "        3.99947177e-04, 9.79822223e-04, 7.99918194e-04, 3.99994861e-04,\n",
       "        9.79793021e-04, 8.94468989e-04, 1.54938885e-03, 1.50789149e-07,\n",
       "        1.85493378e-03, 1.16615492e-03, 4.00018706e-04, 2.24515882e-03,\n",
       "        1.72062860e-03, 2.60776625e-03, 1.35667000e-03, 9.79841683e-04,\n",
       "        2.13549758e-03]),\n",
       " 'mean_score_time': array([0.0076005 , 0.00760036, 0.00720038, 0.00720043, 0.00740042,\n",
       "        0.00760045, 0.00740037, 0.0076005 , 0.00760036, 0.00740047,\n",
       "        0.00700035, 0.00740042, 0.00720029, 0.00720048, 0.00700021,\n",
       "        0.00700049, 0.00680037, 0.00740042, 0.0070004 , 0.00720053,\n",
       "        0.00740042, 0.00720053, 0.0076005 , 0.00720034, 0.00740047]),\n",
       " 'std_score_time': array([4.89843011e-04, 4.90018206e-04, 4.00114074e-04, 4.00090228e-04,\n",
       "        8.00061231e-04, 4.89901382e-04, 4.89998722e-04, 7.99930118e-04,\n",
       "        4.89920871e-04, 4.89920871e-04, 1.16800773e-07, 7.99942031e-04,\n",
       "        3.99923339e-04, 3.99947206e-04, 0.00000000e+00, 1.78416128e-07,\n",
       "        4.00042573e-04, 4.89959812e-04, 1.78416128e-07, 4.00042573e-04,\n",
       "        4.89959812e-04, 4.00042545e-04, 8.00049306e-04, 4.00137912e-04,\n",
       "        4.89920871e-04]),\n",
       " 'param_max_depth': masked_array(data=[1, 1, 1, 1, 1, 2, 2, 2, 2, 2, 3, 3, 3, 3, 3, 4, 4, 4,\n",
       "                    4, 4, 5, 5, 5, 5, 5],\n",
       "              mask=[False, False, False, False, False, False, False, False,\n",
       "                    False, False, False, False, False, False, False, False,\n",
       "                    False, False, False, False, False, False, False, False,\n",
       "                    False],\n",
       "        fill_value='?',\n",
       "             dtype=object),\n",
       " 'param_max_features': masked_array(data=[1, 2, 3, 4, 5, 1, 2, 3, 4, 5, 1, 2, 3, 4, 5, 1, 2, 3,\n",
       "                    4, 5, 1, 2, 3, 4, 5],\n",
       "              mask=[False, False, False, False, False, False, False, False,\n",
       "                    False, False, False, False, False, False, False, False,\n",
       "                    False, False, False, False, False, False, False, False,\n",
       "                    False],\n",
       "        fill_value='?',\n",
       "             dtype=object),\n",
       " 'params': [{'max_depth': 1, 'max_features': 1},\n",
       "  {'max_depth': 1, 'max_features': 2},\n",
       "  {'max_depth': 1, 'max_features': 3},\n",
       "  {'max_depth': 1, 'max_features': 4},\n",
       "  {'max_depth': 1, 'max_features': 5},\n",
       "  {'max_depth': 2, 'max_features': 1},\n",
       "  {'max_depth': 2, 'max_features': 2},\n",
       "  {'max_depth': 2, 'max_features': 3},\n",
       "  {'max_depth': 2, 'max_features': 4},\n",
       "  {'max_depth': 2, 'max_features': 5},\n",
       "  {'max_depth': 3, 'max_features': 1},\n",
       "  {'max_depth': 3, 'max_features': 2},\n",
       "  {'max_depth': 3, 'max_features': 3},\n",
       "  {'max_depth': 3, 'max_features': 4},\n",
       "  {'max_depth': 3, 'max_features': 5},\n",
       "  {'max_depth': 4, 'max_features': 1},\n",
       "  {'max_depth': 4, 'max_features': 2},\n",
       "  {'max_depth': 4, 'max_features': 3},\n",
       "  {'max_depth': 4, 'max_features': 4},\n",
       "  {'max_depth': 4, 'max_features': 5},\n",
       "  {'max_depth': 5, 'max_features': 1},\n",
       "  {'max_depth': 5, 'max_features': 2},\n",
       "  {'max_depth': 5, 'max_features': 3},\n",
       "  {'max_depth': 5, 'max_features': 4},\n",
       "  {'max_depth': 5, 'max_features': 5}],\n",
       " 'split0_test_score': array([-9.97441086e+08, -9.92552007e+08, -9.94132879e+08, -9.99271969e+08,\n",
       "        -9.95065162e+08, -9.96667113e+08, -6.98604357e+08, -7.02405255e+08,\n",
       "        -9.96188501e+08, -9.85713747e+08, -9.82908715e+08, -9.53915377e+08,\n",
       "        -7.19589628e+08, -6.81184008e+08, -7.47809143e+08, -9.94077199e+08,\n",
       "        -9.58323322e+08, -9.65137666e+08, -7.10318858e+08, -7.20042990e+08,\n",
       "        -9.50202049e+08, -7.02219398e+08, -8.70805226e+08, -9.39546733e+08,\n",
       "        -9.38009644e+08]),\n",
       " 'split1_test_score': array([-9.78211342e+08, -9.87399015e+08, -9.93157871e+08, -7.37635506e+08,\n",
       "        -9.86070142e+08, -9.95845633e+08, -9.71213142e+08, -9.91561109e+08,\n",
       "        -7.31836824e+08, -9.83003075e+08, -9.92284013e+08, -9.66459250e+08,\n",
       "        -9.75606390e+08, -7.40534319e+08, -7.49501982e+08, -9.91717508e+08,\n",
       "        -9.79664811e+08, -7.42844251e+08, -6.96394183e+08, -8.67981111e+08,\n",
       "        -7.39611385e+08, -9.09562039e+08, -6.23050586e+08, -7.15419600e+08,\n",
       "        -8.46999396e+08]),\n",
       " 'split2_test_score': array([-9.34144134e+08, -9.32898809e+08, -9.17436843e+08, -9.19493504e+08,\n",
       "        -9.35566509e+08, -9.33708300e+08, -9.29726211e+08, -9.15729396e+08,\n",
       "        -8.93072955e+08, -8.31444347e+08, -8.58355202e+08, -8.91393134e+08,\n",
       "        -8.92771181e+08, -7.50994564e+08, -8.91247672e+08, -9.05188179e+08,\n",
       "        -8.95759514e+08, -8.03352158e+08, -7.16273040e+08, -8.98380863e+08,\n",
       "        -9.22878480e+08, -8.75662065e+08, -8.53234828e+08, -8.38513246e+08,\n",
       "        -7.54766469e+08]),\n",
       " 'split3_test_score': array([-1.00517938e+09, -1.00260115e+09, -9.96809162e+08, -1.00260115e+09,\n",
       "        -1.00593458e+09, -7.97099480e+08, -1.00466658e+09, -1.00581209e+09,\n",
       "        -9.97687544e+08, -9.15097523e+08, -9.92507241e+08, -7.95254199e+08,\n",
       "        -7.74030399e+08, -7.91296421e+08, -9.92816134e+08, -9.95666050e+08,\n",
       "        -9.85745319e+08, -7.46011059e+08, -7.19493746e+08, -9.88765151e+08,\n",
       "        -9.94569402e+08, -7.02760934e+08, -8.83927817e+08, -9.75581076e+08,\n",
       "        -9.17317207e+08]),\n",
       " 'split4_test_score': array([-9.24101444e+08, -9.24101444e+08, -9.65625386e+08, -9.71492633e+08,\n",
       "        -9.68519006e+08, -9.72642271e+08, -9.71530520e+08, -9.49579301e+08,\n",
       "        -9.55537710e+08, -9.19573293e+08, -9.36971746e+08, -9.75486202e+08,\n",
       "        -9.38231081e+08, -9.29304931e+08, -9.55934365e+08, -9.52864844e+08,\n",
       "        -9.29492944e+08, -7.36760948e+08, -7.26010799e+08, -9.39833293e+08,\n",
       "        -7.06061230e+08, -9.46847863e+08, -6.84139800e+08, -6.32051796e+08,\n",
       "        -8.62914710e+08]),\n",
       " 'mean_test_score': array([-9.67815478e+08, -9.67910484e+08, -9.73432428e+08, -9.26098952e+08,\n",
       "        -9.78231080e+08, -9.39192560e+08, -9.15148163e+08, -9.13017431e+08,\n",
       "        -9.14864707e+08, -9.26966397e+08, -9.52605383e+08, -9.16501632e+08,\n",
       "        -8.60045736e+08, -7.78662849e+08, -8.67461859e+08, -9.67902756e+08,\n",
       "        -9.49797182e+08, -7.98821216e+08, -7.13698125e+08, -8.83000682e+08,\n",
       "        -8.62664509e+08, -8.27410460e+08, -7.83031651e+08, -8.20222490e+08,\n",
       "        -8.64001486e+08]),\n",
       " 'std_test_score': array([3.29438558e+07, 3.26664932e+07, 3.02010891e+07, 9.88226339e+07,\n",
       "        2.46045162e+07, 7.46355124e+07, 1.10850836e+08, 1.09983247e+08,\n",
       "        9.90974890e+07, 5.64116132e+07, 5.14049628e+07, 6.73885866e+07,\n",
       "        9.76368004e+07, 8.31553815e+07, 1.02311435e+08, 3.51633372e+07,\n",
       "        3.34346246e+07, 8.65511424e+07, 1.00266365e+07, 9.10312204e+07,\n",
       "        1.16922284e+08, 1.04453529e+08, 1.07876098e+08, 1.30461468e+08,\n",
       "        6.40972928e+07]),\n",
       " 'rank_test_score': array([21, 23, 24, 16, 25, 18, 14, 12, 13, 17, 20, 15,  7,  2, 10, 22, 19,\n",
       "         4,  1, 11,  8,  6,  3,  5,  9], dtype=int32),\n",
       " 'split0_train_score': array([-9.73888641e+08, -9.70209244e+08, -9.73010731e+08, -9.72933190e+08,\n",
       "        -9.72987134e+08, -9.73322457e+08, -7.21789759e+08, -7.14489643e+08,\n",
       "        -9.70194280e+08, -9.51204199e+08, -9.48918399e+08, -9.38861434e+08,\n",
       "        -7.30639346e+08, -6.90294175e+08, -7.45957633e+08, -9.59955249e+08,\n",
       "        -9.09630299e+08, -9.22097714e+08, -7.04272006e+08, -6.96868268e+08,\n",
       "        -9.09331103e+08, -7.03739365e+08, -8.76528882e+08, -9.06943666e+08,\n",
       "        -8.83846820e+08]),\n",
       " 'split1_train_score': array([-9.55423141e+08, -9.71087060e+08, -9.74197790e+08, -7.39605731e+08,\n",
       "        -9.68436359e+08, -9.71587946e+08, -9.58800921e+08, -9.75472079e+08,\n",
       "        -7.34897778e+08, -9.67474193e+08, -9.68712097e+08, -9.53221112e+08,\n",
       "        -9.47088756e+08, -7.07031492e+08, -7.06957673e+08, -9.68252197e+08,\n",
       "        -9.68466485e+08, -7.37114321e+08, -6.92232763e+08, -8.41919898e+08,\n",
       "        -7.03493449e+08, -8.57479058e+08, -6.04859353e+08, -6.98069924e+08,\n",
       "        -8.17501278e+08]),\n",
       " 'split2_train_score': array([-9.90594832e+08, -9.89608754e+08, -9.69535326e+08, -9.55241282e+08,\n",
       "        -9.85583737e+08, -9.89411471e+08, -9.81961964e+08, -9.71301755e+08,\n",
       "        -9.47184846e+08, -8.85444098e+08, -9.01290474e+08, -9.46785328e+08,\n",
       "        -9.53349003e+08, -7.35452999e+08, -9.47961528e+08, -9.66002730e+08,\n",
       "        -9.19750051e+08, -8.57115766e+08, -6.93281973e+08, -9.35764557e+08,\n",
       "        -9.44406526e+08, -9.22532665e+08, -8.02338504e+08, -8.68962699e+08,\n",
       "        -7.71986127e+08]),\n",
       " 'split3_train_score': array([-9.72951627e+08, -9.71353351e+08, -9.68907162e+08, -9.71353351e+08,\n",
       "        -9.70309813e+08, -7.22919537e+08, -9.70902493e+08, -9.69482077e+08,\n",
       "        -9.68047157e+08, -8.84925224e+08, -9.65916595e+08, -7.18943979e+08,\n",
       "        -7.07608321e+08, -7.75474656e+08, -9.48082529e+08, -9.59698734e+08,\n",
       "        -9.39382454e+08, -7.16670351e+08, -6.75439900e+08, -9.40528766e+08,\n",
       "        -9.39298153e+08, -6.67604278e+08, -8.31897199e+08, -9.25718527e+08,\n",
       "        -8.53082079e+08]),\n",
       " 'split4_train_score': array([-8.85086043e+08, -8.85086043e+08, -9.79268297e+08, -9.79010174e+08,\n",
       "        -9.72868995e+08, -9.81247293e+08, -9.80456772e+08, -9.62225424e+08,\n",
       "        -9.65932491e+08, -9.45409969e+08, -9.46461848e+08, -9.72378517e+08,\n",
       "        -9.29717688e+08, -9.51427777e+08, -9.74247246e+08, -9.51011643e+08,\n",
       "        -9.40828796e+08, -7.23264672e+08, -6.87331531e+08, -9.55210788e+08,\n",
       "        -6.99765629e+08, -9.28932031e+08, -6.49485140e+08, -6.01227362e+08,\n",
       "        -7.97116575e+08]),\n",
       " 'mean_train_score': array([-9.55588857e+08, -9.57468890e+08, -9.72983861e+08, -9.23628746e+08,\n",
       "        -9.74037208e+08, -9.27697741e+08, -9.22782382e+08, -9.18594195e+08,\n",
       "        -9.17251310e+08, -9.26891537e+08, -9.46259883e+08, -9.06038074e+08,\n",
       "        -8.53680623e+08, -7.71936220e+08, -8.64641322e+08, -9.60984110e+08,\n",
       "        -9.35611617e+08, -7.91252565e+08, -6.90511634e+08, -8.74058455e+08,\n",
       "        -8.39258972e+08, -8.16057480e+08, -7.53021816e+08, -8.00184436e+08,\n",
       "        -8.24706576e+08]),\n",
       " 'std_train_score': array([3.69660395e+07, 3.69128616e+07, 3.72774325e+06, 9.23466202e+07,\n",
       "        6.01751927e+06, 1.02584810e+08, 1.00835978e+08, 1.02142165e+08,\n",
       "        9.15443725e+07, 3.48139382e+07, 2.41654484e+07, 9.42010676e+07,\n",
       "        1.10378235e+08, 9.42749299e+07, 1.13901801e+08, 6.00287406e+06,\n",
       "        2.02360999e+07, 8.31555457e+07, 9.35152517e+06, 9.72017442e+07,\n",
       "        1.13017361e+08, 1.09951888e+08, 1.06376140e+08, 1.27982875e+08,\n",
       "        3.97374074e+07])}"
      ]
     },
     "execution_count": 7,
     "metadata": {},
     "output_type": "execute_result"
    }
   ],
   "source": [
    "grid_search.cv_results_"
   ]
  },
  {
   "cell_type": "code",
   "execution_count": 8,
   "metadata": {},
   "outputs": [
    {
     "data": {
      "image/png": "[encoded data removed]",
      "text/plain": [
       "<Figure size 432x288 with 1 Axes>"
      ]
     },
     "metadata": {
      "needs_background": "light"
     },
     "output_type": "display_data"
    }
   ],
   "source": [
    "grid_search_df = pd.DataFrame(grid_search.cv_results_)\n",
    "Parametros = grid_search_df.index\n",
    "TRAIN_ACC = grid_search_df.mean_train_score\n",
    "TRAIN_ACC_var =grid_search_df.std_train_score\n",
    "TEST_ACC = grid_search_df.mean_test_score\n",
    "TEST_ACC_var = grid_search_df.std_test_score\n",
    "import matplotlib.pyplot as plt\n",
    "%matplotlib inline\n",
    "plt.errorbar(x=Parametros,y=TRAIN_ACC,yerr=TRAIN_ACC_var,fmt='o-',label='train',alpha=1)\n",
    "plt.errorbar(x=Parametros,y=TEST_ACC,yerr=TEST_ACC_var,fmt='o-',label='test',alpha=0.7)\n",
    "plt.legend()\n",
    "plt.show()"
   ]
  },
  {
   "cell_type": "markdown",
   "metadata": {},
   "source": [
    "**Mostrá** los `grid_scores` obtenidos durante el `grid_search`"
   ]
  },
  {
   "cell_type": "code",
   "execution_count": 9,
   "metadata": {},
   "outputs": [
    {
     "data": {
      "text/plain": [
       "{'max_depth': 4, 'max_features': 4}"
      ]
     },
     "execution_count": 9,
     "metadata": {},
     "output_type": "execute_result"
    }
   ],
   "source": [
    "# Mostrá los grid_scores en esta celda\n",
    "grid_search.best_params_"
   ]
  },
  {
   "cell_type": "markdown",
   "metadata": {},
   "source": [
    "De esta manera, el valor con mejor resultado (dado el espacio de búsqueda definido) es `max_depth` 3 y `max_features` 3."
   ]
  },
  {
   "cell_type": "markdown",
   "metadata": {},
   "source": [
    "**Mostrá** el mejor score y los mejores parámetros encontrados por `grid_search`"
   ]
  },
  {
   "cell_type": "code",
   "execution_count": 10,
   "metadata": {},
   "outputs": [
    {
     "name": "stdout",
     "output_type": "stream",
     "text": [
      "-713698124.9712428\n"
     ]
    }
   ],
   "source": [
    "print(grid_search.best_score_)"
   ]
  },
  {
   "cell_type": "code",
   "execution_count": 11,
   "metadata": {},
   "outputs": [
    {
     "data": {
      "text/plain": [
       "DecisionTreeRegressor(criterion='mse', max_depth=4, max_features=4,\n",
       "           max_leaf_nodes=None, min_impurity_decrease=0.0,\n",
       "           min_impurity_split=None, min_samples_leaf=1,\n",
       "           min_samples_split=2, min_weight_fraction_leaf=0.0,\n",
       "           presort=False, random_state=None, splitter='best')"
      ]
     },
     "execution_count": 11,
     "metadata": {},
     "output_type": "execute_result"
    }
   ],
   "source": [
    "# Mostrás los resultados en esta celda\n",
    "grid_search.best_estimator_"
   ]
  },
  {
   "cell_type": "markdown",
   "metadata": {},
   "source": [
    "Convertimos a RMSE."
   ]
  },
  {
   "cell_type": "code",
   "execution_count": 12,
   "metadata": {},
   "outputs": [],
   "source": [
    "def nmsq2rmse(score):\n",
    "    return np.round(np.sqrt(-score), 2)"
   ]
  },
  {
   "cell_type": "markdown",
   "metadata": {},
   "source": [
    "__Encontrar el mejor modelo para el espacio de búsqueda dado__\n",
    "\n",
    "* `\"min_samples_split\": [2, 10, 20]`\n",
    "* `\"max_depth\": [None, 2, 5, 10, 15]`\n",
    "* `\"min_samples_leaf\": [1, 5, 10, 15]`\n",
    "* `\"max_leaf_nodes\": [None, 5, 10, 20]`"
   ]
  },
  {
   "cell_type": "code",
   "execution_count": 13,
   "metadata": {},
   "outputs": [],
   "source": [
    "param_grid = [{'min_samples_split': [2, 10, 20], 'max_depth': [None, 2, 5, 10, 15], 'min_samples_leaf': [1, 5, 10, 15], 'max_leaf_nodes': [None, 5, 10, 20] }]"
   ]
  },
  {
   "cell_type": "code",
   "execution_count": 14,
   "metadata": {},
   "outputs": [],
   "source": [
    "grid_search = GridSearchCV(tree_reg, param_grid, cv=5,\n",
    "                                 scoring='neg_mean_squared_error',\n",
    "                                 return_train_score=True)"
   ]
  },
  {
   "cell_type": "code",
   "execution_count": 15,
   "metadata": {},
   "outputs": [
    {
     "data": {
      "text/plain": [
       "GridSearchCV(cv=5, error_score='raise-deprecating',\n",
       "       estimator=DecisionTreeRegressor(criterion='mse', max_depth=None, max_features=None,\n",
       "           max_leaf_nodes=None, min_impurity_decrease=0.0,\n",
       "           min_impurity_split=None, min_samples_leaf=1,\n",
       "           min_samples_split=2, min_weight_fraction_leaf=0.0,\n",
       "           presort=False, random_state=None, splitter='best'),\n",
       "       fit_params=None, iid='warn', n_jobs=None,\n",
       "       param_grid=[{'min_samples_split': [2, 10, 20], 'max_depth': [None, 2, 5, 10, 15], 'min_samples_leaf': [1, 5, 10, 15], 'max_leaf_nodes': [None, 5, 10, 20]}],\n",
       "       pre_dispatch='2*n_jobs', refit=True, return_train_score=True,\n",
       "       scoring='neg_mean_squared_error', verbose=0)"
      ]
     },
     "execution_count": 15,
     "metadata": {},
     "output_type": "execute_result"
    }
   ],
   "source": [
    "grid_search.fit(X_train, y_train)"
   ]
  },
  {
   "cell_type": "code",
   "execution_count": 16,
   "metadata": {},
   "outputs": [
    {
     "name": "stdout",
     "output_type": "stream",
     "text": [
      "Best accuracy: -459407773.744\n",
      "\n",
      "Best params:\n",
      " {'max_depth': 10, 'max_leaf_nodes': None, 'min_samples_leaf': 15, 'min_samples_split': 2}\n"
     ]
    }
   ],
   "source": [
    "print('Best accuracy: %.3f' % grid_search.best_score_)\n",
    "print('\\nBest params:\\n', grid_search.best_params_)"
   ]
  },
  {
   "cell_type": "markdown",
   "metadata": {},
   "source": [
    "Recordemos que `GridSearchCV` tiene como parámetro default `refit=True`. Esto significa que luego de hacer la corrida se ajusta el mejor modelo al conjunto de datos de entrada. De esta manera, se puede predecir directamente usando `best_estimator_`."
   ]
  },
  {
   "cell_type": "code",
   "execution_count": 17,
   "metadata": {},
   "outputs": [],
   "source": [
    "optimised_decision_tree = grid_search.best_estimator_"
   ]
  },
  {
   "cell_type": "markdown",
   "metadata": {},
   "source": [
    "__Evaluemos en testing el desempeño de este modelo.__\n",
    "\n",
    "Como venimos trabajando, el resultado en testing será la medición que usaremos como benchmark para comparar este modelos con otros en el futuro, puesto que no estuvo en contacto con el dataset de test para la calibración."
   ]
  },
  {
   "cell_type": "code",
   "execution_count": 18,
   "metadata": {},
   "outputs": [
    {
     "data": {
      "text/plain": [
       "21301.0"
      ]
     },
     "execution_count": 18,
     "metadata": {},
     "output_type": "execute_result"
    }
   ],
   "source": [
    "from sklearn.metrics import mean_squared_error\n",
    "y_opt_pred = optimised_decision_tree.predict(X_test)\n",
    "rmse = np.sqrt(mean_squared_error(y_test, y_opt_pred))\n",
    "np.round(rmse)"
   ]
  },
  {
   "cell_type": "markdown",
   "metadata": {},
   "source": [
    "Vemos los primeros 10 resultados de la predicción del valor de propiedades."
   ]
  },
  {
   "cell_type": "code",
   "execution_count": 19,
   "metadata": {},
   "outputs": [],
   "source": [
    "val_real = pd.Series(y_test.values)\n",
    "val_pred = pd.Series(y_opt_pred)"
   ]
  },
  {
   "cell_type": "code",
   "execution_count": 20,
   "metadata": {},
   "outputs": [],
   "source": [
    "predicciones = pd.concat([val_real.rename('Valor real'),val_pred.rename('Valor Pred') ,abs(val_real-val_pred).rename('Dif(+/-)')] ,  axis=1)"
   ]
  },
  {
   "cell_type": "code",
   "execution_count": 21,
   "metadata": {},
   "outputs": [
    {
     "data": {
      "text/html": [
       "<div>\n",
       "<style scoped>\n",
       "    .dataframe tbody tr th:only-of-type {\n",
       "        vertical-align: middle;\n",
       "    }\n",
       "\n",
       "    .dataframe tbody tr th {\n",
       "        vertical-align: top;\n",
       "    }\n",
       "\n",
       "    .dataframe thead th {\n",
       "        text-align: right;\n",
       "    }\n",
       "</style>\n",
       "<table border=\"1\" class=\"dataframe\">\n",
       "  <thead>\n",
       "    <tr style=\"text-align: right;\">\n",
       "      <th></th>\n",
       "      <th>Valor real</th>\n",
       "      <th>Valor Pred</th>\n",
       "      <th>Dif(+/-)</th>\n",
       "    </tr>\n",
       "  </thead>\n",
       "  <tbody>\n",
       "    <tr>\n",
       "      <th>0</th>\n",
       "      <td>80000.000</td>\n",
       "      <td>103438.660</td>\n",
       "      <td>23438.660</td>\n",
       "    </tr>\n",
       "    <tr>\n",
       "      <th>1</th>\n",
       "      <td>128000.000</td>\n",
       "      <td>135705.882</td>\n",
       "      <td>7705.882</td>\n",
       "    </tr>\n",
       "    <tr>\n",
       "      <th>2</th>\n",
       "      <td>150000.000</td>\n",
       "      <td>156075.759</td>\n",
       "      <td>6075.759</td>\n",
       "    </tr>\n",
       "    <tr>\n",
       "      <th>3</th>\n",
       "      <td>85000.000</td>\n",
       "      <td>102400.991</td>\n",
       "      <td>17400.991</td>\n",
       "    </tr>\n",
       "    <tr>\n",
       "      <th>4</th>\n",
       "      <td>135000.000</td>\n",
       "      <td>135571.622</td>\n",
       "      <td>571.622</td>\n",
       "    </tr>\n",
       "    <tr>\n",
       "      <th>5</th>\n",
       "      <td>135000.000</td>\n",
       "      <td>109560.000</td>\n",
       "      <td>25440.000</td>\n",
       "    </tr>\n",
       "    <tr>\n",
       "      <th>6</th>\n",
       "      <td>68000.000</td>\n",
       "      <td>75181.250</td>\n",
       "      <td>7181.250</td>\n",
       "    </tr>\n",
       "    <tr>\n",
       "      <th>7</th>\n",
       "      <td>110000.000</td>\n",
       "      <td>140444.444</td>\n",
       "      <td>30444.444</td>\n",
       "    </tr>\n",
       "    <tr>\n",
       "      <th>8</th>\n",
       "      <td>134000.000</td>\n",
       "      <td>158431.250</td>\n",
       "      <td>24431.250</td>\n",
       "    </tr>\n",
       "    <tr>\n",
       "      <th>9</th>\n",
       "      <td>110000.000</td>\n",
       "      <td>76701.202</td>\n",
       "      <td>33298.798</td>\n",
       "    </tr>\n",
       "  </tbody>\n",
       "</table>\n",
       "</div>"
      ],
      "text/plain": [
       "   Valor real  Valor Pred  Dif(+/-)\n",
       "0   80000.000  103438.660 23438.660\n",
       "1  128000.000  135705.882  7705.882\n",
       "2  150000.000  156075.759  6075.759\n",
       "3   85000.000  102400.991 17400.991\n",
       "4  135000.000  135571.622   571.622\n",
       "5  135000.000  109560.000 25440.000\n",
       "6   68000.000   75181.250  7181.250\n",
       "7  110000.000  140444.444 30444.444\n",
       "8  134000.000  158431.250 24431.250\n",
       "9  110000.000   76701.202 33298.798"
      ]
     },
     "execution_count": 21,
     "metadata": {},
     "output_type": "execute_result"
    }
   ],
   "source": [
    "predicciones.head(10)"
   ]
  }
 ],
 "metadata": {
  "kernelspec": {
   "display_name": "Python 3",
   "language": "python",
   "name": "python3"
  },
  "language_info": {
   "codemirror_mode": {
    "name": "ipython",
    "version": 3
   },
   "file_extension": ".py",
   "mimetype": "text/x-python",
   "name": "python",
   "nbconvert_exporter": "python",
   "pygments_lexer": "ipython3",
   "version": "3.7.3"
  }
 },
 "nbformat": 4,
 "nbformat_minor": 2
}
